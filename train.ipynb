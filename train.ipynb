{
  "nbformat": 4,
  "nbformat_minor": 0,
  "metadata": {
    "colab": {
      "name": "train.ipynb",
      "provenance": [],
      "collapsed_sections": []
    },
    "kernelspec": {
      "name": "python3",
      "display_name": "Python 3"
    },
    "language_info": {
      "name": "python"
    },
    "gpuClass": "standard"
  },
  "cells": [
    {
      "cell_type": "code",
      "source": [
        "from google.colab import drive\n",
        "drive.mount('/content/drive')"
      ],
      "metadata": {
        "id": "Ayp1GKOwdRVB",
        "colab": {
          "base_uri": "https://localhost:8080/"
        },
        "outputId": "793844c2-c95e-4b49-8f15-bf769198703e"
      },
      "execution_count": null,
      "outputs": [
        {
          "output_type": "stream",
          "name": "stdout",
          "text": [
            "Drive already mounted at /content/drive; to attempt to forcibly remount, call drive.mount(\"/content/drive\", force_remount=True).\n"
          ]
        }
      ]
    },
    {
      "cell_type": "code",
      "source": [
        "%cd /content/drive/MyDrive/second_layer_ai_model/SketchAI/SketchAI/"
      ],
      "metadata": {
        "colab": {
          "base_uri": "https://localhost:8080/"
        },
        "id": "rC9oHaKufGJp",
        "outputId": "e9d2a002-23b3-4a6a-afc8-3cafe4fd71da"
      },
      "execution_count": 1,
      "outputs": [
        {
          "output_type": "stream",
          "name": "stdout",
          "text": [
            "/content/drive/MyDrive/second_layer_ai_model/SketchAI/SketchAI\n"
          ]
        }
      ]
    },
    {
      "cell_type": "code",
      "source": [
        "# from HelperFunctions import *\n",
        "# readNapkinStrokesToCSV('/content/drive/MyDrive/second_layer_ai_model/SketchAI/SketchAI/dataset/NapkinData/NewTrainSet/data.json', '/content/drive/MyDrive/second_layer_ai_model/SketchAI/SketchAI/dataset/NapkinData/NewTrainSet')\n"
      ],
      "metadata": {
        "id": "5uhrFs_ezTjj"
      },
      "execution_count": null,
      "outputs": []
    },
    {
      "cell_type": "code",
      "execution_count": 2,
      "metadata": {
        "colab": {
          "base_uri": "https://localhost:8080/"
        },
        "id": "Qf4zUHOdbxoj",
        "outputId": "1ae19399-6f07-4725-bb47-63b353a5eca2"
      },
      "outputs": [
        {
          "output_type": "stream",
          "name": "stdout",
          "text": [
            "no. of gpus   []\n"
          ]
        }
      ],
      "source": [
        "from GraphicManager import GraphicManager\n",
        "from GestuReNN_mts import GestuReNN_GRU #GestuReNN_mts_without_regression as GestuReNN\n",
        "from DataLoader import DataLoader\n",
        "import numpy as np\n",
        "import time\n",
        "import json\n",
        "\n",
        "import tensorflow as tf\n",
        "print('no. of gpus  ', tf.config.experimental.list_physical_devices(\"GPU\"))\n",
        "\n",
        "\n",
        "# test on old recognition dataset\n",
        "class Parameters:\n",
        "    pad = True\n",
        "    include_fingerup = False\n",
        "    model_inputs = 'coord_and_tang'\n",
        "    test_size = 0.2\n",
        "    dataset = 'Napkin'\n",
        "    load_mode = 'test'\n",
        "    augmentFactor = 0\n",
        "    datasetFolder = '/content/drive/MyDrive/second_layer_ai_model/SketchAI/SketchAI/dataset/NapkinData/TestCSV'\n",
        "    fileType = 'csv'\n",
        "    labelJsonPath = '/content/drive/MyDrive/second_layer_ai_model/SketchAI/SketchAI/dataset/NapkinData/labelDict_2_classes.json'\n",
        "    batchSize = 64\n",
        "    excludeClasses = ['line']\n",
        "    modelPath = '/content/drive/MyDrive/second_layer_ai_model/SketchAI/SketchAI/checkpoints/models/binary_classification_arrow'\n",
        "\n",
        "# test on validation set of training data\n",
        "# class Parameters:\n",
        "#     pad = True\n",
        "#     include_fingerup = True\n",
        "#     use_tangents = True\n",
        "#     test_size = 0.2\n",
        "#     method = 'G3'\n",
        "#     dataset = 'Napkin'\n",
        "#     load_mode = 'validation'\n",
        "#     augmentFactor = 0\n",
        "#     datasetFolder = '/content/drive/MyDrive/second_layer_ai_model/SketchAI/SketchAI/dataset/NapkinData/TrainCSV'\n",
        "#     fileType = 'csv'\n",
        "#     labelJsonPath = '/content/drive/MyDrive/second_layer_ai_model/SketchAI/SketchAI/dataset/NapkinData/test/labelDict_10_classes.json'\n",
        "#     batchSize = 128\n",
        "#     excludeClasses = ['line']\n",
        "#     modelPath = '/content/drive/MyDrive/second_layer_ai_model/SketchAI/SketchAI/checkpoints/models/Napkin_trial'\n",
        "\n",
        "\n",
        "# train on Napkin dataset.\n",
        "# class Parameters:\n",
        "#     pad = True\n",
        "#     include_fingerup = False\n",
        "#     model_inputs = 'coord_and_tang'\n",
        "#     test_size = 0.2\n",
        "#     dataset = 'Napkin'\n",
        "#     load_mode = 'train'\n",
        "#     augmentFactor = 3\n",
        "#     datasetFolder = '/content/drive/MyDrive/second_layer_ai_model/SketchAI/SketchAI/dataset/NapkinData/NewTrainSet/csv'\n",
        "#     fileType = 'csv'\n",
        "#     labelJsonPath = '/content/drive/MyDrive/second_layer_ai_model/SketchAI/SketchAI/dataset/NapkinData/labelDict_2_classes.json'\n",
        "#     batchSize = 32\n",
        "#     excludeClasses = ['line']\n",
        "#     modelPath = '/content/drive/MyDrive/second_layer_ai_model/SketchAI/SketchAI/checkpoints/models/binary_classification_arrow'\n",
        "\n",
        "\n",
        "p = Parameters()"
      ]
    },
    {
      "cell_type": "code",
      "source": [
        "# Data loading\n",
        "dl = DataLoader(dataset=p.dataset, load_mode=p.load_mode, labelJsonPath=None, datasetFolder=p.datasetFolder,\n",
        "                fileType=p.fileType, include_fingerup=p.include_fingerup, model_inputs=p.model_inputs,\n",
        "                augmentFactor=p.augmentFactor, excludeClasses=p.excludeClasses)\n",
        "\n",
        "print(dl.validation_set[0].shape)\n",
        "print(dl.train_set[0].shape)\n",
        "for k, v in dl.labels_dict.items():\n",
        "    print('{} - {}'.format(v, k))"
      ],
      "metadata": {
        "colab": {
          "base_uri": "https://localhost:8080/"
        },
        "id": "g9QIaIWkcfHe",
        "outputId": "5fdaf848-3b81-4f05-ba01-588c87eabb1f"
      },
      "execution_count": 3,
      "outputs": [
        {
          "output_type": "stream",
          "name": "stdout",
          "text": [
            "Starting the DataLoader construction ...\n",
            "stroke_dataset - Napkin\n",
            ".. Done with attribute settings. Loading the data ...\n",
            "42.55%- Loading on /content/drive/MyDrive/second_layer_ai_model/SketchAI/SketchAI/dataset/NapkinData/TestCSV\n",
            "85.11%- Loading on /content/drive/MyDrive/second_layer_ai_model/SketchAI/SketchAI/dataset/NapkinData/TestCSV\n",
            "Loading on /content/drive/MyDrive/second_layer_ai_model/SketchAI/SketchAI/dataset/NapkinData/TestCSV completed.\n",
            "{'non-arrow': 0, 'arrow': 1}\n",
            ".. Done with data loading. Setting up classifier attributes ...\n",
            "Done with DataLoader construction!\n",
            "(234, 64, 4)\n",
            "(234, 64, 4)\n",
            "0 - non-arrow\n",
            "1 - arrow\n"
          ]
        },
        {
          "output_type": "stream",
          "name": "stderr",
          "text": [
            "/content/drive/MyDrive/second_layer_ai_model/SketchAI/SketchAI/DataLoader.py:158: VisibleDeprecationWarning: Creating an ndarray from ragged nested sequences (which is a list-or-tuple of lists-or-tuples-or ndarrays with different lengths or shapes) is deprecated. If you meant to do this, you must specify 'dtype=object' when creating the ndarray.\n",
            "  x, y = np.array(x), np.array(y)\n",
            "/content/drive/MyDrive/second_layer_ai_model/SketchAI/SketchAI/DataLoader.py:216: VisibleDeprecationWarning: Creating an ndarray from ragged nested sequences (which is a list-or-tuple of lists-or-tuples-or ndarrays with different lengths or shapes) is deprecated. If you meant to do this, you must specify 'dtype=object' when creating the ndarray.\n",
            "  x = np.array(x)\n"
          ]
        }
      ]
    },
    {
      "cell_type": "code",
      "source": [
        "import random\n",
        "x_train, y_train = dl.train_set\n",
        "resampled_x_train, resampled_y_train = [],[]\n",
        "for i in range(x_train.shape[0]):\n",
        "  if y_train[i]==1:\n",
        "    if random.uniform(0, 1) < 0.3:\n",
        "      resampled_x_train.append(x_train[i])\n",
        "      resampled_y_train.append(y_train[i])\n",
        "  else:\n",
        "    resampled_x_train.append(x_train[i])\n",
        "    resampled_y_train.append(y_train[i])\n",
        "train_set = np.array(resampled_x_train), np.array(resampled_y_train)\n"
      ],
      "metadata": {
        "id": "e5KQcTD47pDb"
      },
      "execution_count": 4,
      "outputs": []
    },
    {
      "cell_type": "code",
      "source": [],
      "metadata": {
        "id": "g7dsuCoBnq84"
      },
      "execution_count": null,
      "outputs": []
    },
    {
      "cell_type": "code",
      "source": [
        "# with open(p.labelJsonPath, 'w') as fp:\n",
        "#     json.dump(dl.labels_dict, fp)"
      ],
      "metadata": {
        "id": "8sOmDdvj36zW"
      },
      "execution_count": 15,
      "outputs": []
    },
    {
      "cell_type": "code",
      "source": [
        "#print classwise training samples\n",
        "temp = train_set[1]\n",
        "print(temp.shape)\n",
        "countDict = {}\n",
        "for i in range(temp.shape[0]):\n",
        "  try:\n",
        "    countDict[temp[i]] +=1\n",
        "  except:\n",
        "    countDict[temp[i]] =1\n",
        "x = [i for i in range(2)]\n",
        "y = [countDict[i] for i in x]\n",
        "for k in x:\n",
        "  print(\"{}: {}\".format(k, countDict[k]))\n"
      ],
      "metadata": {
        "id": "JboVyebB1aYB",
        "colab": {
          "base_uri": "https://localhost:8080/"
        },
        "outputId": "6445a9d7-b070-4f5e-83a9-9aab4405973a"
      },
      "execution_count": 5,
      "outputs": [
        {
          "output_type": "stream",
          "name": "stdout",
          "text": [
            "(3383,)\n",
            "0: 952\n",
            "1: 2431\n"
          ]
        }
      ]
    },
    {
      "cell_type": "code",
      "source": [
        "# model initialization.\n",
        "model = GestuReNN_GRU(plot=False, labelJsonPath=p.labelJsonPath, model_inputs=p.model_inputs,\n",
        "                      batch_size=p.batchSize, model_path=p.modelPath, include_fingerup=p.include_fingerup)\n",
        "graphic_manager = GraphicManager(dataset=p.dataset)"
      ],
      "metadata": {
        "colab": {
          "base_uri": "https://localhost:8080/"
        },
        "id": "2i4SCrNm8vkU",
        "outputId": "9834d765-b287-48d9-b2ae-a0d445f1a97c"
      },
      "execution_count": 4,
      "outputs": [
        {
          "output_type": "stream",
          "name": "stdout",
          "text": [
            "----#classes = 2------\n"
          ]
        }
      ]
    },
    {
      "cell_type": "code",
      "source": [
        "if p.load_mode == 'train':\n",
        "    with open(p.labelJsonPath, 'w') as fp:\n",
        "        json.dump(dl.labels_dict, fp)\n",
        "    model.fit_model(train_set, dl.validation_set)\n",
        "else:\n",
        "    print(\"loading model ...\")\n",
        "    model.load_model()\n",
        "    print('Model Loaded!!')\n",
        "    graphic_manager.generate_progressive_accuracy(model, dl.test_set)"
      ],
      "metadata": {
        "colab": {
          "base_uri": "https://localhost:8080/"
        },
        "id": "jEsOrQAFce6l",
        "outputId": "0c071d3f-25d1-4b3d-9df4-02baffd5131e"
      },
      "execution_count": 5,
      "outputs": [
        {
          "output_type": "stream",
          "name": "stdout",
          "text": [
            "loading model ...\n",
            "/content/drive/MyDrive/second_layer_ai_model/SketchAI/SketchAI/checkpoints/models/binary_classification_arrow/mdcp_robust.ckpt\n",
            "Model Loaded!!\n",
            "class: non-arrow, accuracy: 0.018691588785046728, total: 214\n",
            "class: arrow, accuracy: 0.4, total: 20\n"
          ]
        }
      ]
    },
    {
      "cell_type": "code",
      "source": [],
      "metadata": {
        "id": "zfRALBtccoQW"
      },
      "execution_count": null,
      "outputs": []
    },
    {
      "cell_type": "code",
      "source": [],
      "metadata": {
        "id": "nG7jGpcMua3R"
      },
      "execution_count": null,
      "outputs": []
    },
    {
      "cell_type": "code",
      "source": [],
      "metadata": {
        "id": "YMj2yxqEce3t"
      },
      "execution_count": null,
      "outputs": []
    },
    {
      "cell_type": "code",
      "source": [],
      "metadata": {
        "id": "ye_7kqc2cqiU"
      },
      "execution_count": null,
      "outputs": []
    }
  ]
}