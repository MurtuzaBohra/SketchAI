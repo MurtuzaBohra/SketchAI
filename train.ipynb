{
 "cells": [
  {
   "cell_type": "code",
   "execution_count": 4,
   "metadata": {
    "colab": {
     "base_uri": "https://localhost:8080/"
    },
    "id": "Qf4zUHOdbxoj",
    "outputId": "b594cb97-df8d-4316-99ab-3bb77854c2a7"
   },
   "outputs": [
    {
     "name": "stdout",
     "output_type": "stream",
     "text": [
      "no. of gpus   [PhysicalDevice(name='/physical_device:GPU:0', device_type='GPU')]\n"
     ]
    }
   ],
   "source": [
    "from GraphicManager import GraphicManager\n",
    "from GestuReNN_mts import GestuReNN_GRU #GestuReNN_mts_without_regression as GestuReNN\n",
    "from DataLoader import DataLoader\n",
    "import numpy as np\n",
    "import time\n",
    "import json\n",
    "\n",
    "import tensorflow as tf\n",
    "print('no. of gpus  ', tf.config.experimental.list_physical_devices(\"GPU\"))\n",
    "\n",
    "# test on test set\n",
    "params = {\n",
    "    \"project_name\": \"shape recognition\",\n",
    "    \"pad\": True,\n",
    "    \"include_fingerup\": False,\n",
    "    \"model_inputs\": 'coord_and_tang',\n",
    "    \"test_size\": 0.2,\n",
    "    \"dataset\": 'Napkin',\n",
    "    \"load_mode\": 'test',\n",
    "    \"augmentFactor\": 0,\n",
    "    \"datasetFolder\": './dataset/NapkinData/TestCSV',\n",
    "    \"fileType\": 'csv',\n",
    "    \"labelJsonPath\": './dataset/NapkinData/labelDict_11_classes.json',\n",
    "    \"batchSize\": 128,\n",
    "    \"useSaliency\": False,\n",
    "    \"isResample\": False,\n",
    "    \"modelPath\": './checkpoints/models/model_v2.2/files/model-best.h5'\n",
    "}\n",
    "    \n",
    "    \n",
    "# train on Napkin dataset.\n",
    "# params = {\n",
    "#     \"project_name\": \"shape recognition\",\n",
    "#     \"pad\": True,\n",
    "#     \"include_fingerup\": False,\n",
    "#     \"model_inputs\": 'coord_and_tang',\n",
    "#     \"test_size\": 0.2,\n",
    "#     \"dataset\": 'Napkin',\n",
    "#     \"load_mode\": 'train',\n",
    "#     \"augmentFactor\": 6,\n",
    "#     \"datasetFolder\": './dataset/NapkinData/NewTrainSet/csv',\n",
    "#     \"fileType\": 'csv',\n",
    "#     \"labelJsonPath\": './dataset/NapkinData/labelDict_11_classes.json',\n",
    "#     \"batchSize\": 128,\n",
    "#     \"useSaliency\": False,\n",
    "#     \"isResample\": False,\n",
    "#     \"modelPath\": './checkpoints/models/model_v2.2/files/model-best.h5'\n",
    "# }\n"
   ]
  },
  {
   "cell_type": "code",
   "execution_count": null,
   "metadata": {},
   "outputs": [],
   "source": [
    "# !pip install wandb\n",
    "import wandb\n",
    "from wandb.keras import WandbCallback\n",
    "run = wandb.init(project=params[\"project_name\"], config=params)"
   ]
  },
  {
   "cell_type": "code",
   "execution_count": null,
   "metadata": {},
   "outputs": [],
   "source": []
  },
  {
   "cell_type": "code",
   "execution_count": 5,
   "metadata": {
    "colab": {
     "base_uri": "https://localhost:8080/"
    },
    "id": "cyXRti1ZcfQl",
    "outputId": "da5a28b0-a3f6-4c54-c555-f98e598b7c10"
   },
   "outputs": [
    {
     "name": "stdout",
     "output_type": "stream",
     "text": [
      "Starting the DataLoader construction ...\n",
      "stroke_dataset - Napkin\n",
      ".. Done with attribute settings. Loading the data ...\n"
     ]
    },
    {
     "name": "stderr",
     "output_type": "stream",
     "text": [
      "/content/drive/MyDrive/second_layer_ai_model/SketchAI/SketchAI/DataLoader.py:96: SettingWithCopyWarning: \n",
      "A value is trying to be set on a copy of a slice from a DataFrame.\n",
      "Try using .loc[row_indexer,col_indexer] = value instead\n",
      "\n",
      "See the caveats in the documentation: https://pandas.pydata.org/pandas-docs/stable/user_guide/indexing.html#returning-a-view-versus-a-copy\n",
      "  df['x'] -= df['x'].iloc[0]\n",
      "/content/drive/MyDrive/second_layer_ai_model/SketchAI/SketchAI/DataLoader.py:97: SettingWithCopyWarning: \n",
      "A value is trying to be set on a copy of a slice from a DataFrame.\n",
      "Try using .loc[row_indexer,col_indexer] = value instead\n",
      "\n",
      "See the caveats in the documentation: https://pandas.pydata.org/pandas-docs/stable/user_guide/indexing.html#returning-a-view-versus-a-copy\n",
      "  df['y'] -= df['y'].iloc[0]\n"
     ]
    },
    {
     "name": "stdout",
     "output_type": "stream",
     "text": [
      "42.55%- Loading on /content/drive/MyDrive/second_layer_ai_model/SketchAI/SketchAI/dataset/NapkinData/TestCSV\n",
      "85.11%- Loading on /content/drive/MyDrive/second_layer_ai_model/SketchAI/SketchAI/dataset/NapkinData/TestCSV\n",
      "Loading on /content/drive/MyDrive/second_layer_ai_model/SketchAI/SketchAI/dataset/NapkinData/TestCSV completed.\n",
      "{'arrow_head': 0, 'triangle': 1, 'rectangle': 2, 'bracket': 3, 'small_cross': 4, 'arrow': 5, 'ellipse': 6, 'dot': 7, 'circle': 8, 'curly_braces': 9, 'garbage': 10}\n",
      ".. Done with data loading. Setting up classifier attributes ...\n",
      ".. Done with classifier attributes. Setting up regressor attributes ...\n",
      "Done with DataLoader construction!\n",
      "(234, 64, 4)\n",
      "(234, 64, 4)\n",
      "0 - arrow_head\n",
      "1 - triangle\n",
      "2 - rectangle\n",
      "3 - bracket\n",
      "4 - small_cross\n",
      "5 - arrow\n",
      "6 - ellipse\n",
      "7 - dot\n",
      "8 - circle\n",
      "9 - curly_braces\n",
      "10 - garbage\n"
     ]
    }
   ],
   "source": [
    "# Data loading\n",
    "dl = DataLoader(dataset=params[\"dataset\"], load_mode=params[\"load_mode\"], labelJsonPath=params[\"labelJsonPath\"], datasetFolder=params[\"datasetFolder\"],\n",
    "                fileType=params[\"fileType\"], include_fingerup=params[\"include_fingerup\"], model_inputs=params[\"model_inputs\"],\n",
    "                augmentFactor=params[\"augmentFactor\"],isResample=params[\"isResample\"], useSaliency=params[\"useSaliency\"])\n",
    "\n",
    "print(dl.validation_set[0].shape)\n",
    "print(dl.train_set[0].shape)\n",
    "for k, v in dl.labels_dict.items():\n",
    "    print('{} - {}'.format(v, k))"
   ]
  },
  {
   "cell_type": "code",
   "execution_count": 6,
   "metadata": {
    "id": "FLLQg5sdE2Bi"
   },
   "outputs": [],
   "source": [
    "# with open(p.labelJsonPath, 'w') as fp:\n",
    "#         json.dump(dl.labels_dict, fp)"
   ]
  },
  {
   "cell_type": "code",
   "execution_count": null,
   "metadata": {},
   "outputs": [],
   "source": [
    "#print classwise training samples\n",
    "temp = dl.train_set[1]\n",
    "print(temp.shape)\n",
    "countDict = {}\n",
    "for i in range(temp.shape[0]):\n",
    "  try:\n",
    "    countDict[temp[i]] +=1\n",
    "  except:\n",
    "    countDict[temp[i]] =1\n",
    "x = [i for i in range(len(dl.labels_dict))]\n",
    "y = [countDict[i] for i in x]\n",
    "for k in x:\n",
    "  print(\"{}: {}\".format(k, countDict[k]))\n"
   ]
  },
  {
   "cell_type": "code",
   "execution_count": null,
   "metadata": {
    "colab": {
     "base_uri": "https://localhost:8080/"
    },
    "id": "g9QIaIWkcfHe",
    "outputId": "612cd6c5-2c46-4a4d-b5de-8661699b9eb3"
   },
   "outputs": [],
   "source": [
    "# model initialization.\n",
    "model = GestuReNN_GRU(plot=False, labelJsonPath=params[\"labelJsonPath\"], model_inputs=params[\"model_inputs\"],\n",
    "                      batch_size=params[\"batchSize\"], model_path=params[\"modelPath\"], include_fingerup=params[\"include_fingerup\"], useSaliency=params[\"useSaliency\"])\n",
    "graphic_manager = GraphicManager(dataset=params[\"dataset\"], n_bins=10)"
   ]
  },
  {
   "cell_type": "code",
   "execution_count": null,
   "metadata": {},
   "outputs": [],
   "source": [
    "WandbCallback().save_weights_only=True\n",
    "WandbCallback().filepath = params[\"modelPath\"]"
   ]
  },
  {
   "cell_type": "code",
   "execution_count": null,
   "metadata": {
    "id": "7W_pvGH0EdjE"
   },
   "outputs": [],
   "source": [
    "#convert to tensorflow JS model.\n",
    "model.load_model_with_state()\n",
    "import tensorflowjs as tfjs\n",
    "\n",
    "tfjs.converters.save_keras_model(model.model_with_state, \"/Users/murtuza/Desktop\")"
   ]
  },
  {
   "cell_type": "code",
   "execution_count": null,
   "metadata": {
    "colab": {
     "base_uri": "https://localhost:8080/",
     "height": 883
    },
    "id": "dMplbS4HNB2G",
    "outputId": "36f4bce9-8b42-4104-f1ea-3748805192b9",
    "scrolled": true
   },
   "outputs": [],
   "source": [
    "if params[\"load_mode\"] == 'train':\n",
    "    with open(params[\"labelJsonPath\"], 'w') as fp:\n",
    "        json.dump(dl.labels_dict, fp)\n",
    "    model.fit_model(dl.train_set_classifier,\n",
    "                        dl.validation_set_classifier,\n",
    "                        dl.train_set_regressor,\n",
    "                        dl.validation_set_regressor,\n",
    "                        dl.y_train_binary,\n",
    "                        dl.y_test_binary,\n",
    "                        wandbCallBacks=[WandbCallback()])\n",
    "    arrowMetrics, clfMetrics = graphic_manager.generate_progressive_accuracy(model, dl.test_set_classifier, dl.y_test_binary, plot_clf=True, plot_reg=False,\n",
    "                                                  best_of=1, indexToLabel=dl.get_index_to_label())\n",
    "    wandb.log({\"arrow Classifier\": arrowMetrics, \"classfier\": clfMetrics})\n",
    "else:\n",
    "    print(\"loading model ...\")\n",
    "    model.load_model()\n",
    "    print('Model Loaded!!')\n",
    "    graphic_manager.generate_progressive_accuracy(model, dl.test_set_classifier, plot_clf=True, plot_reg=False,\n",
    "                                                  best_of=1, indexToLabel=dl.get_index_to_label())\n",
    "\n",
    "wandb.finish()"
   ]
  },
  {
   "cell_type": "code",
   "execution_count": null,
   "metadata": {
    "id": "4nEDHmLRNBoA"
   },
   "outputs": [],
   "source": []
  },
  {
   "cell_type": "code",
   "execution_count": null,
   "metadata": {
    "colab": {
     "base_uri": "https://localhost:8080/",
     "height": 858
    },
    "id": "4Z0gFwKs3edw",
    "outputId": "0684caa8-84cb-4da6-a646-15c840c11057"
   },
   "outputs": [
    {
     "name": "stdout",
     "output_type": "stream",
     "text": [
      "loading model ...\n",
      "/content/drive/MyDrive/second_layer_ai_model/SketchAI/SketchAI/checkpoints/models/gru_input_dim3/mdcp_robust.ckpt\n",
      "Model Loaded!!\n"
     ]
    },
    {
     "data": {
      "image/png": "[encoded data removed]",
      "text/plain": [
       "<Figure size 432x288 with 1 Axes>"
      ]
     },
     "metadata": {
      "needs_background": "light"
     },
     "output_type": "display_data"
    },
    {
     "name": "stdout",
     "output_type": "stream",
     "text": [
      "========================================\n",
      "arrow_head (23.0) - | arrow_head: 19.0| triangle: 3.0| arrow: 1.0  | 82.6086956521739%\n",
      "triangle (23.0) - | triangle: 19.0| rectangle: 3.0| garbage: 1.0  | 82.6086956521739%\n",
      "rectangle (22.0) - | triangle: 8.0| rectangle: 12.0| small_cross: 1.0| garbage: 1.0  | 54.54545454545455%\n",
      "bracket (23.0) - | arrow_head: 1.0| bracket: 21.0| curly_braces: 1.0  | 91.30434782608695%\n",
      "small_cross (21.0) - | arrow_head: 15.0| triangle: 1.0| small_cross: 3.0| dot: 2.0  | 14.285714285714286%\n",
      "arrow (20.0) - | triangle: 2.0| rectangle: 2.0| arrow: 15.0| circle: 1.0  | 75.0%\n",
      "ellipse (23.0) - | triangle: 1.0| ellipse: 13.0| circle: 2.0| curly_braces: 4.0| garbage: 3.0  | 56.52173913043478%\n",
      "dot (21.0) - | arrow_head: 7.0| arrow: 2.0| dot: 11.0| circle: 1.0  | 52.38095238095238%\n",
      "circle (19.0) - | circle: 18.0| garbage: 1.0  | 94.73684210526316%\n",
      "curly_braces (22.0) - | triangle: 2.0| rectangle: 2.0| curly_braces: 14.0| garbage: 4.0  | 63.63636363636363%\n",
      "garbage (17.0) - | rectangle: 2.0| ellipse: 1.0| garbage: 14.0  | 82.3529411764706%\n"
     ]
    },
    {
     "data": {
      "image/png": "[encoded data removed]",
      "text/plain": [
       "<Figure size 432x288 with 1 Axes>"
      ]
     },
     "metadata": {
      "needs_background": "light"
     },
     "output_type": "display_data"
    },
    {
     "name": "stdout",
     "output_type": "stream",
     "text": [
      "[0.08974359 0.07692308 0.12393162 0.2008547  0.29487179 0.36324786\n",
      " 0.47435897 0.56837607 0.59401709 0.63675214 0.67948718]\n"
     ]
    }
   ],
   "source": [
    "# Gru_input_dim_3\n",
    "if p.load_mode == 'train':\n",
    "    with open(p.labelJsonPath, 'w') as fp:\n",
    "        json.dump(dl.labels_dict, fp)\n",
    "    model_mts.fit_model(dl.train_set_classifier,\n",
    "                        dl.validation_set_classifier,\n",
    "                        dl.train_set_regressor,\n",
    "                        dl.validation_set_regressor)\n",
    "else:\n",
    "    print(\"loading model ...\")\n",
    "    model_mts.load_model()\n",
    "    print('Model Loaded!!')\n",
    "    graphic_manager.generate_progressive_accuracy(model_mts, dl.test_set_classifier, plot_clf=True, plot_reg=False,\n",
    "                                                  best_of=1, indexToLabel=dl.get_index_to_label())"
   ]
  },
  {
   "cell_type": "code",
   "execution_count": null,
   "metadata": {
    "id": "wN90GFI73fR-"
   },
   "outputs": [],
   "source": []
  },
  {
   "cell_type": "code",
   "execution_count": null,
   "metadata": {
    "colab": {
     "base_uri": "https://localhost:8080/",
     "height": 827
    },
    "id": "HWv7L34iRIyj",
    "outputId": "631310fc-671c-4447-8531-327632efc173"
   },
   "outputs": [
    {
     "name": "stdout",
     "output_type": "stream",
     "text": [
      "loading model ...\n",
      "/content/drive/MyDrive/second_layer_ai_model/SketchAI/SketchAI/checkpoints/models/Napkin_latest/mdcp_robust.ckpt\n",
      "Model Loaded!!\n"
     ]
    },
    {
     "data": {
      "image/png": "[encoded data removed]",
      "text/plain": [
       "<Figure size 432x288 with 1 Axes>"
      ]
     },
     "metadata": {
      "needs_background": "light"
     },
     "output_type": "display_data"
    },
    {
     "name": "stdout",
     "output_type": "stream",
     "text": [
      "========================================\n",
      "arrow_head (23.0) - | arrow_head: 21.0| triangle: 2.0  | 91.30434782608695%\n",
      "triangle (23.0) - | triangle: 17.0| rectangle: 4.0| small_cross: 1.0| garbage: 1.0  | 73.91304347826087%\n",
      "rectangle (22.0) - | triangle: 2.0| rectangle: 17.0| bracket: 1.0| ellipse: 2.0  | 77.27272727272727%\n",
      "bracket (23.0) - | bracket: 18.0| curly_braces: 5.0  | 78.26086956521739%\n",
      "small_cross (21.0) - | arrow_head: 8.0| small_cross: 13.0  | 61.904761904761905%\n",
      "arrow (20.0) - | triangle: 1.0| rectangle: 2.0| arrow: 9.0| ellipse: 2.0| circle: 1.0| curly_braces: 3.0| garbage: 2.0  | 45.0%\n",
      "ellipse (23.0) - | triangle: 6.0| rectangle: 3.0| ellipse: 13.0| circle: 1.0  | 56.52173913043478%\n",
      "dot (21.0) - | dot: 20.0| circle: 1.0  | 95.23809523809524%\n",
      "circle (19.0) - | triangle: 1.0| circle: 18.0  | 94.73684210526316%\n",
      "curly_braces (22.0) - | curly_braces: 21.0| garbage: 1.0  | 95.45454545454545%\n",
      "garbage (17.0) - | ellipse: 3.0| garbage: 14.0  | 82.3529411764706%\n"
     ]
    },
    {
     "data": {
      "image/png": "[encoded data removed]",
      "text/plain": [
       "<Figure size 432x288 with 1 Axes>"
      ]
     },
     "metadata": {
      "needs_background": "light"
     },
     "output_type": "display_data"
    }
   ],
   "source": [
    "if p.load_mode == 'train':\n",
    "    with open(p.labelJsonPath, 'w') as fp:\n",
    "        json.dump(dl.labels_dict, fp)\n",
    "    model_mts.fit_model(dl.train_set_classifier,\n",
    "                        dl.validation_set_classifier,\n",
    "                        dl.train_set_regressor,\n",
    "                        dl.validation_set_regressor)\n",
    "else:\n",
    "    print(\"loading model ...\")\n",
    "    model_mts.load_model()\n",
    "    print('Model Loaded!!')\n",
    "    graphic_manager.generate_progressive_accuracy(model_mts, dl.test_set_classifier, plot_clf=True, plot_reg=False,\n",
    "                                                  best_of=1, indexToLabel=dl.get_index_to_label())"
   ]
  },
  {
   "cell_type": "code",
   "execution_count": null,
   "metadata": {
    "id": "X2zu-XXrKrRJ"
   },
   "outputs": [],
   "source": []
  },
  {
   "cell_type": "code",
   "execution_count": null,
   "metadata": {
    "colab": {
     "base_uri": "https://localhost:8080/",
     "height": 863
    },
    "id": "_wKaZWWNKqbK",
    "outputId": "9882ab34-0238-4ee1-8eb9-b53568224092"
   },
   "outputs": [
    {
     "name": "stdout",
     "output_type": "stream",
     "text": [
      "loading model ...\n",
      "/content/drive/MyDrive/second_layer_ai_model/SketchAI/SketchAI/checkpoints/models/Napkin_latest/mdcp_robust.ckpt\n",
      "Model Loaded!!\n"
     ]
    },
    {
     "data": {
      "image/png": "[encoded data removed]",
      "text/plain": [
       "<Figure size 432x288 with 1 Axes>"
      ]
     },
     "metadata": {
      "needs_background": "light"
     },
     "output_type": "display_data"
    },
    {
     "name": "stdout",
     "output_type": "stream",
     "text": [
      "========================================\n",
      "arrow_head (4.0) - | arrow_head: 4.0  | 100.0%\n",
      "triangle (0.0) -   | nan%\n",
      "rectangle (18.0) - | triangle: 1.0| rectangle: 12.0| arrow: 1.0| ellipse: 1.0| curly_braces: 3.0  | 66.66666666666667%\n",
      "bracket (0.0) -   | nan%\n",
      "small_cross (0.0) -   | nan%\n",
      "arrow (11.0) - | arrow: 10.0| garbage: 1.0  | 90.9090909090909%\n",
      "ellipse (0.0) -   | nan%\n",
      "dot (0.0) -   | nan%\n",
      "circle (13.0) - | ellipse: 3.0| circle: 10.0  | 76.92307692307692%\n",
      "curly_braces (0.0) -   | nan%\n",
      "garbage (0.0) -   | nan%\n"
     ]
    },
    {
     "name": "stderr",
     "output_type": "stream",
     "text": [
      "/content/drive/MyDrive/second_layer_ai_model/SketchAI/SketchAI/GraphicManager.py:309: RuntimeWarning: invalid value encountered in double_scalars\n",
      "  strng += \"  | {}%\".format((prediction_statistics[i, i] * 100) / np.sum(prediction_statistics[i, :]))\n"
     ]
    },
    {
     "data": {
      "image/png": "[encoded data removed]",
      "text/plain": [
       "<Figure size 432x288 with 1 Axes>"
      ]
     },
     "metadata": {
      "needs_background": "light"
     },
     "output_type": "display_data"
    }
   ],
   "source": [
    "if p.load_mode == 'train':\n",
    "    with open(p.labelJsonPath, 'w') as fp:\n",
    "        json.dump(dl.labels_dict, fp)\n",
    "    model_mts.fit_model(dl.train_set_classifier,\n",
    "                        dl.validation_set_classifier,\n",
    "                        dl.train_set_regressor,\n",
    "                        dl.validation_set_regressor)\n",
    "else:\n",
    "    print(\"loading model ...\")\n",
    "    model_mts.load_model()\n",
    "    print('Model Loaded!!')\n",
    "    graphic_manager.generate_progressive_accuracy(model_mts, dl.test_set_classifier, plot_clf=True, plot_reg=False,\n",
    "                                                  best_of=1, indexToLabel=dl.get_index_to_label())"
   ]
  },
  {
   "cell_type": "code",
   "execution_count": null,
   "metadata": {
    "id": "MKhy8PMQRIml"
   },
   "outputs": [],
   "source": []
  },
  {
   "cell_type": "code",
   "execution_count": null,
   "metadata": {
    "colab": {
     "base_uri": "https://localhost:8080/",
     "height": 1000
    },
    "id": "ZMTFchu-grBK",
    "outputId": "4ff96ea0-923c-40c7-97d7-d5066ba180db"
   },
   "outputs": [
    {
     "name": "stdout",
     "output_type": "stream",
     "text": [
      "loading model ...\n",
      "/content/drive/MyDrive/second_layer_ai_model/SketchAI/SketchAI/checkpoints/models/Napkin_trial/mdcp_robust.ckpt\n",
      "Model Loaded!!\n",
      "--------Sample - 0----------\n",
      "classification gt, [pred] 2 [2]\n",
      "--------Sample - 1----------\n",
      "classification gt, [pred] 2 [2]\n",
      "--------Sample - 2----------\n",
      "classification gt, [pred] 2 [2]\n",
      "--------Sample - 3----------\n",
      "classification gt, [pred] 2 [2]\n",
      "--------Sample - 4----------\n",
      "classification gt, [pred] 2 [2]\n",
      "--------Sample - 5----------\n",
      "classification gt, [pred] 2 [5]\n",
      "--------Sample - 6----------\n",
      "classification gt, [pred] 2 [2]\n",
      "--------Sample - 7----------\n",
      "classification gt, [pred] 2 [2]\n",
      "--------Sample - 8----------\n",
      "classification gt, [pred] 2 [2]\n",
      "--------Sample - 9----------\n",
      "classification gt, [pred] 2 [2]\n",
      "--------Sample - 10----------\n",
      "classification gt, [pred] 2 [2]\n",
      "--------Sample - 11----------\n",
      "classification gt, [pred] 2 [2]\n",
      "--------Sample - 12----------\n",
      "classification gt, [pred] 2 [5]\n",
      "--------Sample - 13----------\n",
      "classification gt, [pred] 2 [2]\n",
      "--------Sample - 14----------\n",
      "classification gt, [pred] 2 [2]\n",
      "--------Sample - 15----------\n",
      "classification gt, [pred] 2 [2]\n",
      "--------Sample - 16----------\n",
      "classification gt, [pred] 2 [2]\n",
      "--------Sample - 17----------\n",
      "classification gt, [pred] 2 [2]\n",
      "--------Sample - 18----------\n",
      "classification gt, [pred] 5 [5]\n",
      "--------Sample - 19----------\n",
      "classification gt, [pred] 5 [5]\n",
      "--------Sample - 20----------\n",
      "classification gt, [pred] 5 [5]\n",
      "--------Sample - 21----------\n",
      "classification gt, [pred] 5 [2]\n",
      "--------Sample - 22----------\n",
      "classification gt, [pred] 5 [5]\n",
      "--------Sample - 23----------\n",
      "classification gt, [pred] 5 [5]\n",
      "--------Sample - 24----------\n",
      "classification gt, [pred] 5 [5]\n",
      "--------Sample - 25----------\n",
      "classification gt, [pred] 5 [2]\n",
      "--------Sample - 26----------\n",
      "classification gt, [pred] 5 [5]\n",
      "--------Sample - 27----------\n",
      "classification gt, [pred] 5 [5]\n",
      "--------Sample - 28----------\n",
      "classification gt, [pred] 5 [5]\n",
      "--------Sample - 29----------\n",
      "classification gt, [pred] 0 [0]\n",
      "--------Sample - 30----------\n",
      "classification gt, [pred] 0 [3]\n",
      "--------Sample - 31----------\n",
      "classification gt, [pred] 0 [1]\n",
      "--------Sample - 32----------\n",
      "classification gt, [pred] 0 [8]\n",
      "--------Sample - 33----------\n",
      "classification gt, [pred] 8 [8]\n",
      "--------Sample - 34----------\n",
      "classification gt, [pred] 8 [8]\n",
      "--------Sample - 35----------\n",
      "classification gt, [pred] 8 [8]\n",
      "--------Sample - 36----------\n",
      "classification gt, [pred] 8 [8]\n",
      "--------Sample - 37----------\n",
      "classification gt, [pred] 8 [8]\n",
      "--------Sample - 38----------\n",
      "classification gt, [pred] 8 [8]\n",
      "--------Sample - 39----------\n",
      "classification gt, [pred] 8 [8]\n",
      "--------Sample - 40----------\n",
      "classification gt, [pred] 8 [8]\n",
      "--------Sample - 41----------\n",
      "classification gt, [pred] 8 [8]\n",
      "--------Sample - 42----------\n",
      "classification gt, [pred] 8 [8]\n",
      "--------Sample - 43----------\n",
      "classification gt, [pred] 8 [8]\n",
      "--------Sample - 44----------\n",
      "classification gt, [pred] 8 [8]\n",
      "--------Sample - 45----------\n",
      "classification gt, [pred] 8 [8]\n"
     ]
    },
    {
     "data": {
      "image/png": "[encoded data removed]",
      "text/plain": [
       "<Figure size 432x288 with 1 Axes>"
      ]
     },
     "metadata": {
      "needs_background": "light"
     },
     "output_type": "display_data"
    },
    {
     "name": "stdout",
     "output_type": "stream",
     "text": [
      "========================================\n",
      "arrow_head (4.0) - | arrow_head: 1.0| triangle: 1.0| bracket: 1.0| circle: 1.0  | 25.0%\n",
      "triangle (0.0) -   | nan%\n",
      "rectangle (18.0) - | rectangle: 16.0| arrow: 2.0  | 88.88888888888889%\n",
      "bracket (0.0) -   | nan%\n",
      "small_cross (0.0) -   | nan%\n",
      "arrow (11.0) - | rectangle: 2.0| arrow: 9.0  | 81.81818181818181%\n",
      "ellipse (0.0) -   | nan%\n",
      "dot (0.0) -   | nan%\n",
      "circle (13.0) - | circle: 13.0  | 100.0%\n",
      "curly_braces (0.0) -   | nan%\n"
     ]
    },
    {
     "name": "stderr",
     "output_type": "stream",
     "text": [
      "/content/drive/MyDrive/second_layer_ai_model/SketchAI/SketchAI/GraphicManager.py:313: RuntimeWarning: invalid value encountered in double_scalars\n",
      "  strng += \"  | {}%\".format((prediction_statistics[i, i] * 100) / np.sum(prediction_statistics[i, :]))\n"
     ]
    },
    {
     "data": {
      "image/png": "[encoded data removed]",
      "text/plain": [
       "<Figure size 432x288 with 1 Axes>"
      ]
     },
     "metadata": {
      "needs_background": "light"
     },
     "output_type": "display_data"
    }
   ],
   "source": [
    "#napkin trial\n",
    "if p.load_mode == 'train':\n",
    "    with open(p.labelJsonPath, 'w') as fp:\n",
    "        json.dump(dl.labels_dict, fp)\n",
    "    model_mts.fit_model(dl.train_set_classifier,\n",
    "                        dl.validation_set_classifier,\n",
    "                        dl.train_set_regressor,\n",
    "                        dl.validation_set_regressor)\n",
    "else:\n",
    "    print(\"loading model ...\")\n",
    "    model_mts.load_model()\n",
    "    print('Model Loaded!!')\n",
    "    graphic_manager.generate_progressive_accuracy(model_mts, dl.test_set_classifier, plot_clf=True, plot_reg=False,\n",
    "                                                  best_of=1, indexToLabel=dl.get_index_to_label())\n"
   ]
  },
  {
   "cell_type": "code",
   "execution_count": null,
   "metadata": {
    "id": "YRyyQkAdZGrn"
   },
   "outputs": [],
   "source": []
  },
  {
   "cell_type": "code",
   "execution_count": null,
   "metadata": {
    "id": "YMj2yxqEce3t"
   },
   "outputs": [],
   "source": []
  },
  {
   "cell_type": "code",
   "execution_count": null,
   "metadata": {
    "id": "zfRALBtccoQW"
   },
   "outputs": [],
   "source": [
    "print(tf.__version__)"
   ]
  },
  {
   "cell_type": "code",
   "execution_count": null,
   "metadata": {
    "id": "ye_7kqc2cqiU"
   },
   "outputs": [],
   "source": []
  }
 ],
 "metadata": {
  "colab": {
   "collapsed_sections": [],
   "name": "train_copy.ipynb",
   "provenance": []
  },
  "gpuClass": "standard",
  "kernelspec": {
   "display_name": "Python 3 (ipykernel)",
   "language": "python",
   "name": "python3"
  },
  "language_info": {
   "codemirror_mode": {
    "name": "ipython",
    "version": 3
   },
   "file_extension": ".py",
   "mimetype": "text/x-python",
   "name": "python",
   "nbconvert_exporter": "python",
   "pygments_lexer": "ipython3",
   "version": "3.9.0"
  }
 },
 "nbformat": 4,
 "nbformat_minor": 1
}
