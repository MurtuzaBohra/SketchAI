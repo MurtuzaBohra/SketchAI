{
 "cells": [
  {
   "cell_type": "code",
   "execution_count": null,
   "id": "b077aa97",
   "metadata": {},
   "outputs": [],
   "source": [
    "from GraphicManager import GraphicManager\n",
    "from GestuReNN_mts import GestuReNN\n",
    "from DataLoader import DataLoader\n",
    "import numpy as np\n",
    "import time\n",
    "\n",
    "import tensorflow as tf\n",
    "print('no. of gpus  ', tf.config.experimental.list_physical_devices(\"GPU\"))\n",
    "\n",
    "\n",
    "# test on old recognition dataset\n",
    "class Parameters:\n",
    "    pad = True\n",
    "    include_fingerup = False\n",
    "    test_size = 0.2\n",
    "    method = 'G3'\n",
    "    dataset = 'Napkin'\n",
    "    load_mode = 'test'\n",
    "    augmentFactor = 3\n",
    "    datasetFolder = '/Users/murtuza/Desktop/SketchAI/dataset/NapkinData/test'\n",
    "    fileType = 'json'\n",
    "    labelJsonPath = '/Users/murtuza/Desktop/SketchAI/dataset/NapkinData/test/labelDict_10_classes.json'\n",
    "    topology = 'mts'\n",
    "    batchSize = 128\n",
    "    modelPath = '/Users/murtuza/Desktop/SketchAI/checkpoints/models/Napkin_latest_10_classes'\n",
    "\n",
    "# train on Napkin dataset.\n",
    "# class Parameters:\n",
    "#     pad = True\n",
    "#     include_fingerup = False\n",
    "#     test_size = 0.2\n",
    "#     method = 'G3'\n",
    "#     dataset = 'Napkin'\n",
    "#     load_mode = 'train'\n",
    "#     augmentFactor = 3\n",
    "#     datasetFolder = '/Users/murtuza/Desktop/SketchAI/dataset/NapkinData/csv'\n",
    "#     fileType = 'csv'\n",
    "#     labelJsonPath = None\n",
    "#     topology = 'mts'\n",
    "#     batchSize = 64\n",
    "#     modelPath = '/Users/murtuza/Desktop/SketchAI/checkpoints/models/Napkin_latest_copy'\n",
    "\n",
    "\n",
    "p = Parameters()\n"
   ]
  },
  {
   "cell_type": "code",
   "execution_count": null,
   "id": "b191d5f6",
   "metadata": {
    "scrolled": true
   },
   "outputs": [],
   "source": [
    "\n",
    "# Data loading\n",
    "dl = DataLoader(dataset=p.dataset, load_mode=p.load_mode, labelJsonPath=p.labelJsonPath, datasetFolder=p.datasetFolder,\n",
    "                fileType=p.fileType, include_fingerup=p.include_fingerup, augmentFactor=p.augmentFactor)\n",
    "\n",
    "print(dl.validation_set_classifier[0].shape)\n",
    "print(dl.train_set_classifier[0].shape)\n",
    "for k, v in dl.labels_dict.items():\n",
    "    print('{} - {}'.format(v, k))\n",
    "\n"
   ]
  },
  {
   "cell_type": "code",
   "execution_count": null,
   "id": "470184ed",
   "metadata": {},
   "outputs": [],
   "source": [
    "# model initialization.\n",
    "model_mts = GestuReNN(dataset=p.dataset, plot=False, topology=p.topology, labelJsonPath=p.labelJsonPath,\n",
    "                      batch_size=p.batchSize, model_path=p.modelPath, include_fingerup=p.include_fingerup)\n",
    "graphic_manager = GraphicManager(dataset=p.dataset, n_bins=10)\n",
    "\n"
   ]
  },
  {
   "cell_type": "code",
   "execution_count": null,
   "id": "d738a369",
   "metadata": {},
   "outputs": [],
   "source": [
    "if p.load_mode == 'train':\n",
    "    model_mts.fit_model(dl.train_set_classifier,\n",
    "                        dl.validation_set_classifier,\n",
    "                        dl.train_set_regressor,\n",
    "                        dl.validation_set_regressor)\n",
    "else:\n",
    "    print(\"loading model ...\")\n",
    "    model_mts.load_model()\n",
    "    print('Model Loaded!!')\n",
    "\n"
   ]
  },
  {
   "cell_type": "code",
   "execution_count": null,
   "id": "3d86be6f",
   "metadata": {},
   "outputs": [],
   "source": [
    "graphic_manager.generate_progressive_accuracy(model_mts, dl.test_set_classifier, plot_clf=True, plot_reg=False,\n",
    "                                                 best_of=1, indexToLabel=dl.get_index_to_label())"
   ]
  },
  {
   "cell_type": "code",
   "execution_count": null,
   "id": "6d41dbcb",
   "metadata": {},
   "outputs": [],
   "source": []
  },
  {
   "cell_type": "code",
   "execution_count": null,
   "id": "b4a77a43",
   "metadata": {
    "scrolled": true
   },
   "outputs": [],
   "source": [
    "# input_curve3 = [ 681, 121, 1113, 682, 119, 1372, 685, 116, 1471, 698, 118, 1684, 711, 135, 1841, 713, 158, 1972, 709, 180, 2089, 705, 198, 2269, 692, 248, 2483, 694, 248, 2979, 725, 253, 3086, 726, 255, 3281, 723, 263, 3428, 715, 266, 3561, 702, 277, 3676, 698, 283, 3739, 696, 287, 3855, 699, 298, 4008, 705, 317, 4150, 710, 343, 4298, 711, 358, 4454, 701, 376, 4656, 693, 374, 4885, 680, 366, 5098 ]\n",
    "input_curve3 = [ 632, 162, 905, 630, 161, 1212, 624, 159, 1314, 616, 161, 1426, 609, 169, 1597, 608, 187, 1831, 615, 226, 2136, 618, 254, 2427, 618, 256, 2562, 605, 274, 2959, 607, 276, 3226, 614, 283, 3466, 616, 291, 3665, 615, 307, 3903, 613, 331, 4093, 612, 359, 4307, 617, 369, 4546, 619, 369, 4680, 628, 370, 4858, 636, 368, 5027, 639, 358, 5296 ]\n",
    "x = np.array(input_curve3).reshape((-1,3))\n",
    "x = x[:, :2] - np.min(x[:,:2], axis=0)\n",
    "# x[:,-1] = 0\n",
    "# x[-1,-1] = 1  #fingure_up with last coordinate.\n",
    "x = np.expand_dims(x, axis=0)\n",
    "print(x.shape)\n",
    "\n",
    "start_time = time.time()\n",
    "clf, reg = graphic_manager.make_predictions(model_mts, x)\n",
    "print(\"--- %s seconds ---\" % (time.time() - start_time))\n",
    "print(clf)\n",
    "print(reg)"
   ]
  },
  {
   "cell_type": "code",
   "execution_count": null,
   "id": "e78f161e",
   "metadata": {},
   "outputs": [],
   "source": [
    "from HelperFunctions import convert_curve_points_to_svg\n",
    "convert_curve_points_to_svg(x[0,:,:])"
   ]
  },
  {
   "cell_type": "code",
   "execution_count": null,
   "id": "d8c81f65",
   "metadata": {},
   "outputs": [],
   "source": [
    "strng = \"7.74487734e-01 2.15693504e-01 9.34692798e-05 5.31498715e-03 6.74787792e-04 7.31729029e-04 2.95303587e-04 2.60266522e-03 4.34560970e-05 6.23326123e-05\"\n",
    "l = [float(e) for e in strng.split()]\n",
    "print(l)\n",
    "print(sum(l))"
   ]
  },
  {
   "cell_type": "code",
   "execution_count": null,
   "id": "1147ac03",
   "metadata": {},
   "outputs": [],
   "source": []
  },
  {
   "cell_type": "code",
   "execution_count": null,
   "id": "5787ac4c",
   "metadata": {},
   "outputs": [],
   "source": []
  },
  {
   "cell_type": "code",
   "execution_count": null,
   "id": "f60d1573",
   "metadata": {},
   "outputs": [],
   "source": []
  },
  {
   "cell_type": "code",
   "execution_count": null,
   "id": "5445d412",
   "metadata": {
    "scrolled": true
   },
   "outputs": [],
   "source": [
    "model_mts.model.summary()"
   ]
  },
  {
   "cell_type": "code",
   "execution_count": null,
   "id": "93d26b65",
   "metadata": {},
   "outputs": [],
   "source": [
    "import tensorflowjs as tfjs\n",
    "\n",
    "tfjs.converters.save_keras_model(model_mts.model, \"/Users/murtuza/Desktop\")"
   ]
  },
  {
   "cell_type": "code",
   "execution_count": null,
   "id": "fd6338e1",
   "metadata": {},
   "outputs": [],
   "source": []
  }
 ],
 "metadata": {
  "kernelspec": {
   "display_name": "Python 3 (ipykernel)",
   "language": "python",
   "name": "python3"
  },
  "language_info": {
   "codemirror_mode": {
    "name": "ipython",
    "version": 3
   },
   "file_extension": ".py",
   "mimetype": "text/x-python",
   "name": "python",
   "nbconvert_exporter": "python",
   "pygments_lexer": "ipython3",
   "version": "3.8.13"
  }
 },
 "nbformat": 4,
 "nbformat_minor": 5
}
