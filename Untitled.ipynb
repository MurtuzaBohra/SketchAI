{
 "cells": [
  {
   "cell_type": "code",
   "execution_count": 1,
   "id": "b077aa97",
   "metadata": {},
   "outputs": [
    {
     "name": "stdout",
     "output_type": "stream",
     "text": [
      "no. of gpus   [PhysicalDevice(name='/physical_device:GPU:0', device_type='GPU')]\n"
     ]
    }
   ],
   "source": [
    "from GraphicManager import GraphicManager\n",
    "from GestuReNN_mts import GestuReNN\n",
    "from DataLoader import DataLoader\n",
    "import numpy as np\n",
    "import time\n",
    "\n",
    "import tensorflow as tf\n",
    "print('no. of gpus  ', tf.config.experimental.list_physical_devices(\"GPU\"))\n",
    "\n",
    "\n",
    "# test on old recognition dataset\n",
    "class Parameters:\n",
    "    pad = True\n",
    "    include_fingerup = False\n",
    "    test_size = 0.2\n",
    "    method = 'G3'\n",
    "    dataset = 'Napkin'\n",
    "    load_mode = 'test'\n",
    "    augmentFactor = 3\n",
    "    datasetFolder = '/Users/murtuza/Desktop/SketchAI/dataset/NapkinData/test'\n",
    "    fileType = 'json'\n",
    "    labelJsonPath = '/Users/murtuza/Desktop/SketchAI/dataset/NapkinData/test/labelDict_10_classes.json'\n",
    "    batchSize = 128\n",
    "    modelPath = '/Users/murtuza/Desktop/SketchAI/checkpoints/models/Napkin_latest_copy'\n",
    "\n",
    "# train on Napkin dataset.\n",
    "# class Parameters:\n",
    "#     pad = True\n",
    "#     include_fingerup = False\n",
    "#     test_size = 0.2\n",
    "#     method = 'G3'\n",
    "#     dataset = 'Napkin'\n",
    "#     load_mode = 'train'\n",
    "#     augmentFactor = 3\n",
    "#     datasetFolder = '/Users/murtuza/Desktop/SketchAI/dataset/NapkinData/csv'\n",
    "#     fileType = 'csv'\n",
    "#     labelJsonPath = None\n",
    "#     topology = 'mts'\n",
    "#     batchSize = 64\n",
    "#     modelPath = '/Users/murtuza/Desktop/SketchAI/checkpoints/models/Napkin_latest_copy'\n",
    "\n",
    "\n",
    "p = Parameters()\n"
   ]
  },
  {
   "cell_type": "code",
   "execution_count": 2,
   "id": "470184ed",
   "metadata": {},
   "outputs": [
    {
     "name": "stdout",
     "output_type": "stream",
     "text": [
      "----#classes = 10------\n",
      "Metal device set to: Apple M1 Pro\n"
     ]
    },
    {
     "name": "stderr",
     "output_type": "stream",
     "text": [
      "2022-08-05 18:15:10.492805: I tensorflow/core/common_runtime/pluggable_device/pluggable_device_factory.cc:305] Could not identify NUMA node of platform GPU ID 0, defaulting to 0. Your kernel may not have been built with NUMA support.\n",
      "2022-08-05 18:15:10.492973: I tensorflow/core/common_runtime/pluggable_device/pluggable_device_factory.cc:271] Created TensorFlow device (/job:localhost/replica:0/task:0/device:GPU:0 with 0 MB memory) -> physical PluggableDevice (device: 0, name: METAL, pci bus id: <undefined>)\n"
     ]
    }
   ],
   "source": [
    "# model initialization.\n",
    "model_mts = GestuReNN(plot=False, labelJsonPath=p.labelJsonPath,\n",
    "                      batch_size=p.batchSize, model_path=p.modelPath, include_fingerup=p.include_fingerup)\n",
    "graphic_manager = GraphicManager(dataset=p.dataset, n_bins=10)\n"
   ]
  },
  {
   "cell_type": "code",
   "execution_count": 3,
   "id": "f9eef69d",
   "metadata": {
    "scrolled": true
   },
   "outputs": [
    {
     "name": "stdout",
     "output_type": "stream",
     "text": [
      "/Users/murtuza/Desktop/SketchAI/checkpoints/models/Napkin_latest_copy/mdcp_robust.ckpt\n"
     ]
    }
   ],
   "source": [
    "model_mts.load_model_with_state()\n"
   ]
  },
  {
   "cell_type": "code",
   "execution_count": 4,
   "id": "1a550733",
   "metadata": {},
   "outputs": [
    {
     "name": "stdout",
     "output_type": "stream",
     "text": [
      "WARNING:tensorflow:Compiled the loaded model, but the compiled metrics have yet to be built. `model.compile_metrics` will be empty until you train or evaluate the model.\n"
     ]
    }
   ],
   "source": [
    "import tensorflowjs as tfjs\n",
    "\n",
    "tfjs.converters.save_keras_model(model_mts.model_with_state, \"/Users/murtuza/Desktop\")\n"
   ]
  },
  {
   "cell_type": "code",
   "execution_count": null,
   "id": "df88afc1",
   "metadata": {},
   "outputs": [],
   "source": [
    "0 - arrow_head\n",
    "1 - triangle\n",
    "2 - rectangle\n",
    "3 - bracket\n",
    "4 - small_cross\n",
    "5 - arrow\n",
    "6 - ellipse\n",
    "7 - dot\n",
    "8 - circle\n",
    "9 - curly_braces"
   ]
  },
  {
   "cell_type": "code",
   "execution_count": null,
   "id": "be824d5b",
   "metadata": {},
   "outputs": [],
   "source": []
  },
  {
   "cell_type": "code",
   "execution_count": 10,
   "id": "ac35f552",
   "metadata": {
    "scrolled": true
   },
   "outputs": [
    {
     "name": "stdout",
     "output_type": "stream",
     "text": [
      "[[[  0.   0.]\n",
      "  [ -2.  -1.]\n",
      "  [ -8.  -3.]\n",
      "  [-16.  -1.]\n",
      "  [-23.   7.]\n",
      "  [-24.  25.]\n",
      "  [-17.  64.]\n",
      "  [-14.  92.]\n",
      "  [-14.  94.]\n",
      "  [-27. 112.]\n",
      "  [-25. 114.]\n",
      "  [-18. 121.]\n",
      "  [-16. 129.]\n",
      "  [-17. 145.]\n",
      "  [-19. 169.]\n",
      "  [-20. 197.]\n",
      "  [-15. 207.]\n",
      "  [-13. 207.]\n",
      "  [ -4. 208.]\n",
      "  [  4. 206.]\n",
      "  [  7. 196.]]]\n",
      "(1, 21, 2)\n",
      "(1, 64)\n"
     ]
    }
   ],
   "source": [
    "input_curve3 = [ 632, 162, 905, 630, 161, 1212, 624, 159, 1314, 616, 161, 1426, 609, 169, 1597, 608, 187, 1831, 615, 226, 2136, 618, 254, 2427, 618, 256, 2562, 605, 274, 2959, 607, 276, 3226, 614, 283, 3466, 616, 291, 3665, 615, 307, 3903, 613, 331, 4093, 612, 359, 4307, 617, 369, 4546, 619, 369, 4680, 628, 370, 4858, 636, 368, 5027, 639, 358, 5296 ]\n",
    "x = np.array(input_curve3, dtype=\"float32\").reshape((-1,3))\n",
    "x = x[:, :2] - x[0,:2]\n",
    "x = np.expand_dims(x, axis=0)\n",
    "print((x))\n",
    "print(x.shape)\n",
    "\n",
    "state1 = [np.reshape(np.zeros((64)), newshape=(1,64)),np.reshape(np.zeros((64)), newshape=(1,64))]\n",
    "print(state1[0].shape)\n",
    "state2 = [np.reshape(np.zeros((32)), newshape=(1,32)),np.reshape(np.zeros((32)), newshape=(1,32))]\n",
    "\n",
    "output = model_mts.model_with_state([state1[0], state1[1], state2[0], state2[1], state2[0], state2[1], x])"
   ]
  },
  {
   "cell_type": "code",
   "execution_count": 12,
   "id": "0367b332",
   "metadata": {
    "scrolled": true
   },
   "outputs": [
    {
     "name": "stdout",
     "output_type": "stream",
     "text": [
      "[<tf.Tensor: shape=(1, 21, 10), dtype=float32, numpy=\n",
      "array([[[1.34363353e-01, 1.02712899e-01, 1.00208975e-01, 1.38473853e-01,\n",
      "         7.37716854e-02, 9.47437808e-02, 6.67976663e-02, 9.81600732e-02,\n",
      "         8.45179260e-02, 1.06249802e-01],\n",
      "        [1.22766204e-01, 9.22195390e-02, 9.69698802e-02, 1.66381776e-01,\n",
      "         6.04988895e-02, 9.93043631e-02, 6.67261928e-02, 9.39607918e-02,\n",
      "         9.01067853e-02, 1.11065663e-01],\n",
      "        [7.58922622e-02, 6.38817996e-02, 8.29551667e-02, 2.53129214e-01,\n",
      "         2.69593298e-02, 1.39235407e-01, 6.93241805e-02, 6.71284124e-02,\n",
      "         1.43905312e-01, 7.75889382e-02],\n",
      "        [2.02778913e-02, 4.53257337e-02, 5.92131019e-02, 3.02816212e-01,\n",
      "         5.95382461e-03, 1.57484457e-01, 7.62553290e-02, 2.05039345e-02,\n",
      "         2.76554585e-01, 3.56149562e-02],\n",
      "        [2.50795484e-03, 4.22772169e-02, 2.46876348e-02, 7.55814165e-02,\n",
      "         7.47620070e-04, 1.49039596e-01, 1.25031531e-01, 2.17262004e-03,\n",
      "         5.71189702e-01, 6.76473044e-03],\n",
      "        [3.14753677e-04, 2.24002209e-02, 5.27786231e-03, 8.14362802e-03,\n",
      "         8.14802333e-05, 8.51052776e-02, 1.18192308e-01, 2.67451105e-04,\n",
      "         7.58711457e-01, 1.50560203e-03],\n",
      "        [1.09521257e-04, 7.24533293e-03, 1.61763316e-03, 4.29937383e-03,\n",
      "         8.25314874e-06, 3.47313397e-02, 5.32813817e-02, 4.80690396e-05,\n",
      "         8.97284269e-01, 1.37482875e-03],\n",
      "        [4.84321827e-05, 2.02211295e-03, 4.93067375e-04, 3.88654764e-03,\n",
      "         2.68735675e-06, 2.13841740e-02, 4.13708389e-02, 1.71093779e-05,\n",
      "         9.29337084e-01, 1.43808138e-03],\n",
      "        [3.67898210e-05, 9.56863281e-04, 3.83112405e-04, 7.62682920e-03,\n",
      "         1.60183606e-06, 2.72637382e-02, 4.28330339e-02, 1.30150001e-05,\n",
      "         9.18261230e-01, 2.62382370e-03],\n",
      "        [4.90176826e-05, 7.08607666e-04, 5.77313069e-04, 2.67920159e-02,\n",
      "         1.64556718e-06, 6.61027282e-02, 4.86879759e-02, 1.86443885e-05,\n",
      "         8.48790109e-01, 8.27195309e-03],\n",
      "        [6.78152574e-05, 5.30603924e-04, 8.30341014e-04, 6.50089309e-02,\n",
      "         1.69919508e-06, 1.43244460e-01, 5.78312464e-02, 2.92620916e-05,\n",
      "         7.14654803e-01, 1.78008601e-02],\n",
      "        [8.85760455e-05, 3.98160220e-04, 9.49615904e-04, 9.65057090e-02,\n",
      "         1.56346198e-06, 2.62756556e-01, 7.18024150e-02, 4.41155717e-05,\n",
      "         5.43358028e-01, 2.40952969e-02],\n",
      "        [1.16342853e-04, 3.28513706e-04, 9.84778861e-04, 1.05120480e-01,\n",
      "         1.37404504e-06, 4.31221366e-01, 8.48174319e-02, 6.07511938e-05,\n",
      "         3.46778780e-01, 3.05702053e-02],\n",
      "        [1.35915150e-04, 2.45526462e-04, 8.48999189e-04, 8.40550736e-02,\n",
      "         1.05369190e-06, 6.29623592e-01, 8.45480934e-02, 7.15627975e-05,\n",
      "         1.67329818e-01, 3.31403650e-02],\n",
      "        [1.28381551e-04, 1.56587528e-04, 5.94768848e-04, 5.04069813e-02,\n",
      "         6.60103069e-07, 7.91341841e-01, 6.67227805e-02, 6.65090483e-05,\n",
      "         6.09746464e-02, 2.96067558e-02],\n",
      "        [9.96014351e-05, 9.18068836e-05, 3.65016691e-04, 2.51555666e-02,\n",
      "         3.59775328e-07, 8.86820436e-01, 4.54643928e-02, 4.94475571e-05,\n",
      "         1.89960841e-02, 2.29573082e-02],\n",
      "        [5.79496154e-05, 4.89277772e-05, 2.03876451e-04, 1.02507006e-02,\n",
      "         1.78677979e-07, 9.45544541e-01, 2.52953917e-02, 3.02767785e-05,\n",
      "         5.39240055e-03, 1.31757976e-02],\n",
      "        [3.19958635e-05, 2.79615160e-05, 1.16657095e-04, 4.39273519e-03,\n",
      "         1.02973495e-07, 9.73098159e-01, 1.28731001e-02, 1.61702883e-05,\n",
      "         1.53308548e-03, 7.91004673e-03],\n",
      "        [1.78329046e-05, 1.77316979e-05, 7.06921492e-05, 2.03253003e-03,\n",
      "         6.43729479e-08, 9.84857321e-01, 7.96166435e-03, 8.36103845e-06,\n",
      "         5.03395160e-04, 4.53054346e-03],\n",
      "        [1.24538165e-05, 1.36151239e-05, 5.10858881e-05, 1.04750833e-03,\n",
      "         5.00932522e-08, 9.89806473e-01, 6.22163294e-03, 5.17281433e-06,\n",
      "         2.21402981e-04, 2.62054754e-03],\n",
      "        [1.03435032e-05, 1.18454809e-05, 3.95658426e-05, 5.91808639e-04,\n",
      "         4.06049594e-08, 9.92266476e-01, 5.40688541e-03, 3.37985102e-06,\n",
      "         1.16504692e-04, 1.55310077e-03]]], dtype=float32)>, <tf.Tensor: shape=(1, 21, 1), dtype=float32, numpy=\n",
      "array([[[0.37890917],\n",
      "        [0.11943173],\n",
      "        [0.09968883],\n",
      "        [0.09913184],\n",
      "        [0.12315698],\n",
      "        [0.17329091],\n",
      "        [0.25310013],\n",
      "        [0.31315902],\n",
      "        [0.38277036],\n",
      "        [0.45975435],\n",
      "        [0.5346221 ],\n",
      "        [0.6114247 ],\n",
      "        [0.67896736],\n",
      "        [0.7283637 ],\n",
      "        [0.76864314],\n",
      "        [0.80356324],\n",
      "        [0.8332043 ],\n",
      "        [0.85604477],\n",
      "        [0.87756336],\n",
      "        [0.91033465],\n",
      "        [0.9285793 ]]], dtype=float32)>]\n"
     ]
    }
   ],
   "source": [
    "output1= model_mts.model(x)\n",
    "print(output1[-2:])"
   ]
  },
  {
   "cell_type": "code",
   "execution_count": 11,
   "id": "99c08fe6",
   "metadata": {},
   "outputs": [
    {
     "data": {
      "text/plain": [
       "[<tf.Tensor: shape=(1, 10), dtype=float32, numpy=\n",
       " array([[8.5837055e-06, 9.0854101e-06, 1.3860758e-05, 9.6800570e-05,\n",
       "         3.7825750e-08, 9.9793935e-01, 1.3280390e-03, 5.7431595e-07,\n",
       "         9.3308063e-06, 5.9425563e-04]], dtype=float32)>,\n",
       " <tf.Tensor: shape=(1, 1), dtype=float32, numpy=array([[0.9285202]], dtype=float32)>]"
      ]
     },
     "execution_count": 11,
     "metadata": {},
     "output_type": "execute_result"
    }
   ],
   "source": [
    "output[-2:]"
   ]
  },
  {
   "cell_type": "code",
   "execution_count": 2,
   "id": "b191d5f6",
   "metadata": {
    "scrolled": true
   },
   "outputs": [
    {
     "name": "stdout",
     "output_type": "stream",
     "text": [
      "Starting the DataLoader construction ...\n",
      "stroke_dataset - Napkin\n",
      ".. Done with attribute settings. Loading the data ...\n",
      ".. Done with data loading. Setting up classifier attributes ...\n",
      ".. Done with classifier attributes. Setting up regressor attributes ...\n",
      "Done with DataLoader construction!\n",
      "(46, 25, 2)\n",
      "(46, 25, 2)\n",
      "0 - bracket\n",
      "1 - curly_braces\n",
      "2 - arrow_head\n",
      "3 - rectangle\n",
      "4 - ellipse\n",
      "5 - triangle\n",
      "6 - circle\n",
      "7 - arrow\n",
      "8 - dot\n",
      "9 - small_cross\n"
     ]
    },
    {
     "name": "stderr",
     "output_type": "stream",
     "text": [
      "/Users/murtuza/Desktop/SketchAI/DataLoader.py:205: VisibleDeprecationWarning: Creating an ndarray from ragged nested sequences (which is a list-or-tuple of lists-or-tuples-or ndarrays with different lengths or shapes) is deprecated. If you meant to do this, you must specify 'dtype=object' when creating the ndarray.\n",
      "  x, y = np.array(x), np.array(y)\n"
     ]
    }
   ],
   "source": [
    "\n",
    "# Data loading\n",
    "dl = DataLoader(dataset=p.dataset, load_mode=p.load_mode, labelJsonPath=p.labelJsonPath, datasetFolder=p.datasetFolder,\n",
    "                fileType=p.fileType, include_fingerup=p.include_fingerup, augmentFactor=p.augmentFactor)\n",
    "\n",
    "print(dl.validation_set_classifier[0].shape)\n",
    "print(dl.train_set_classifier[0].shape)\n",
    "for k, v in dl.labels_dict.items():\n",
    "    print('{} - {}'.format(v, k))\n",
    "\n"
   ]
  },
  {
   "cell_type": "code",
   "execution_count": null,
   "id": "3d86be6f",
   "metadata": {},
   "outputs": [],
   "source": [
    "graphic_manager.generate_progressive_accuracy(model_mts, dl.test_set_classifier, plot_clf=True, plot_reg=False,\n",
    "                                                 best_of=1, indexToLabel=dl.get_index_to_label())"
   ]
  },
  {
   "cell_type": "code",
   "execution_count": null,
   "id": "d738a369",
   "metadata": {},
   "outputs": [],
   "source": [
    "if p.load_mode == 'train':\n",
    "    model_mts.fit_model(dl.train_set_classifier,\n",
    "                        dl.validation_set_classifier,\n",
    "                        dl.train_set_regressor,\n",
    "                        dl.validation_set_regressor)\n",
    "else:\n",
    "    print(\"loading model ...\")\n",
    "    model_mts.load_model()\n",
    "    print('Model Loaded!!')\n",
    "\n"
   ]
  },
  {
   "cell_type": "code",
   "execution_count": null,
   "id": "6d41dbcb",
   "metadata": {},
   "outputs": [],
   "source": []
  },
  {
   "cell_type": "code",
   "execution_count": 15,
   "id": "b4a77a43",
   "metadata": {
    "scrolled": true
   },
   "outputs": [
    {
     "name": "stdout",
     "output_type": "stream",
     "text": [
      "(1, 21, 2)\n",
      "--- 0.0001590251922607422 seconds ---\n",
      "None\n",
      "None\n"
     ]
    }
   ],
   "source": [
    "# input_curve3 = [ 681, 121, 1113, 682, 119, 1372, 685, 116, 1471, 698, 118, 1684, 711, 135, 1841, 713, 158, 1972, 709, 180, 2089, 705, 198, 2269, 692, 248, 2483, 694, 248, 2979, 725, 253, 3086, 726, 255, 3281, 723, 263, 3428, 715, 266, 3561, 702, 277, 3676, 698, 283, 3739, 696, 287, 3855, 699, 298, 4008, 705, 317, 4150, 710, 343, 4298, 711, 358, 4454, 701, 376, 4656, 693, 374, 4885, 680, 366, 5098 ]\n",
    "input_curve3 = [ 632, 162, 905, 630, 161, 1212, 624, 159, 1314, 616, 161, 1426, 609, 169, 1597, 608, 187, 1831, 615, 226, 2136, 618, 254, 2427, 618, 256, 2562, 605, 274, 2959, 607, 276, 3226, 614, 283, 3466, 616, 291, 3665, 615, 307, 3903, 613, 331, 4093, 612, 359, 4307, 617, 369, 4546, 619, 369, 4680, 628, 370, 4858, 636, 368, 5027, 639, 358, 5296 ]\n",
    "x = np.array(input_curve3).reshape((-1,3))\n",
    "x = x[:, :2] - np.min(x[:,:2], axis=0)\n",
    "# x[:,-1] = 0\n",
    "# x[-1,-1] = 1  #fingure_up with last coordinate.\n",
    "x = np.expand_dims(x, axis=0)\n",
    "print(x.shape)\n",
    "\n",
    "start_time = time.time()\n",
    "clf, reg = graphic_manager.make_predictions(model_mts, x)\n",
    "print(\"--- %s seconds ---\" % (time.time() - start_time))\n",
    "print(clf)\n",
    "print(reg)"
   ]
  },
  {
   "cell_type": "code",
   "execution_count": 6,
   "id": "e78f161e",
   "metadata": {},
   "outputs": [
    {
     "name": "stdout",
     "output_type": "stream",
     "text": [
      "<svg viewBox=\"0 0 300 300\" position=\"absolute\" xmlns=\"http://www.w3.org/2000/svg\"><path d=\"M 0.0 0.0 L -2.0 -1.0 L -8.0 -3.0 L -16.0 -1.0 L -23.0 7.0 L -24.0 25.0 L -17.0 64.0 L -14.0 92.0 L -14.0 94.0 L -27.0 112.0 L -25.0 114.0 L -18.0 121.0 L -16.0 129.0 L -17.0 145.0 L -19.0 169.0 L -20.0 197.0 L -15.0 207.0 L -13.0 207.0 L -4.0 208.0 L 4.0 206.0 L 7.0 196.0\" fill=\"#ffff\" stroke=\"black\"></path></svg>\n"
     ]
    },
    {
     "data": {
      "text/plain": [
       "'<svg viewBox=\"0 0 300 300\" position=\"absolute\" xmlns=\"http://www.w3.org/2000/svg\"><path d=\"M 0.0 0.0 L -2.0 -1.0 L -8.0 -3.0 L -16.0 -1.0 L -23.0 7.0 L -24.0 25.0 L -17.0 64.0 L -14.0 92.0 L -14.0 94.0 L -27.0 112.0 L -25.0 114.0 L -18.0 121.0 L -16.0 129.0 L -17.0 145.0 L -19.0 169.0 L -20.0 197.0 L -15.0 207.0 L -13.0 207.0 L -4.0 208.0 L 4.0 206.0 L 7.0 196.0\" fill=\"#ffff\" stroke=\"black\"></path></svg>'"
      ]
     },
     "execution_count": 6,
     "metadata": {},
     "output_type": "execute_result"
    }
   ],
   "source": [
    "from HelperFunctions import convert_curve_points_to_svg\n",
    "convert_curve_points_to_svg(x[0,:,:])"
   ]
  },
  {
   "cell_type": "code",
   "execution_count": 9,
   "id": "d8c81f65",
   "metadata": {},
   "outputs": [
    {
     "name": "stdout",
     "output_type": "stream",
     "text": [
      "[0.02257823, 0.016493626, 0.00046059553, 0.78604233, 0.070404023, 0.020854628, 0.038263235, 0.044370137, 0.00022202882, 0.00031119274]\n",
      "1.00000002609\n"
     ]
    }
   ],
   "source": [
    "strng = \"2.2578230e-02, 1.6493626e-02, 4.6059553e-04, 7.8604233e-01, 7.0404023e-02, 2.0854628e-02, 3.8263235e-02, 4.4370137e-02, 2.2202882e-04, 3.1119274e-04\"\n",
    "l = [float(e) for e in strng.split(',')]\n",
    "print(l)\n",
    "print(sum(l))"
   ]
  },
  {
   "cell_type": "code",
   "execution_count": null,
   "id": "1147ac03",
   "metadata": {},
   "outputs": [],
   "source": []
  },
  {
   "cell_type": "code",
   "execution_count": null,
   "id": "5787ac4c",
   "metadata": {},
   "outputs": [],
   "source": []
  },
  {
   "cell_type": "code",
   "execution_count": null,
   "id": "f60d1573",
   "metadata": {},
   "outputs": [],
   "source": []
  },
  {
   "cell_type": "code",
   "execution_count": null,
   "id": "5445d412",
   "metadata": {
    "scrolled": true
   },
   "outputs": [],
   "source": [
    "model_mts.model.summary()"
   ]
  },
  {
   "cell_type": "code",
   "execution_count": null,
   "id": "93d26b65",
   "metadata": {},
   "outputs": [],
   "source": [
    "import tensorflowjs as tfjs\n",
    "\n",
    "tfjs.converters.save_keras_model(model_mts.model, \"/Users/murtuza/Desktop\")"
   ]
  },
  {
   "cell_type": "code",
   "execution_count": null,
   "id": "fd6338e1",
   "metadata": {},
   "outputs": [],
   "source": []
  }
 ],
 "metadata": {
  "kernelspec": {
   "display_name": "Python 3 (ipykernel)",
   "language": "python",
   "name": "python3"
  },
  "language_info": {
   "codemirror_mode": {
    "name": "ipython",
    "version": 3
   },
   "file_extension": ".py",
   "mimetype": "text/x-python",
   "name": "python",
   "nbconvert_exporter": "python",
   "pygments_lexer": "ipython3",
   "version": "3.9.0"
  }
 },
 "nbformat": 4,
 "nbformat_minor": 5
}
