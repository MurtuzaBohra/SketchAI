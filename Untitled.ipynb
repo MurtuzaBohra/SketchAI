{
 "cells": [
  {
   "cell_type": "code",
   "execution_count": 1,
   "id": "b077aa97",
   "metadata": {},
   "outputs": [
    {
     "name": "stdout",
     "output_type": "stream",
     "text": [
      "no. of gpus   [PhysicalDevice(name='/physical_device:GPU:0', device_type='GPU')]\n"
     ]
    }
   ],
   "source": [
    "from GraphicManager import GraphicManager\n",
    "from GestuReNN import GestuReNN\n",
    "from DataLoader import DataLoader\n",
    "import numpy as np\n",
    "import time\n",
    "\n",
    "import tensorflow as tf\n",
    "print('no. of gpus  ', tf.config.experimental.list_physical_devices(\"GPU\"))\n",
    "\n",
    "\n",
    "# test on old recognition dataset\n",
    "class Parameters:\n",
    "    pad = True\n",
    "    normalize = True\n",
    "    include_fingerup = False\n",
    "    test_size = 0.2\n",
    "    method = 'G3'\n",
    "    dataset = 'Napkin'\n",
    "    load_mode = 'test'\n",
    "    augmentFactor = 3,\n",
    "    datasetFolder = '/Users/murtuza/Desktop/SketchAI/dataset/NapkinData/test'\n",
    "    fileType = 'json'\n",
    "    labelJsonPath = '/Users/murtuza/Desktop/SketchAI/dataset/NapkinData/test/labelDict.json'\n",
    "    topology = 'mts'\n",
    "    batchSize = 128\n",
    "    modelPath = '/Users/murtuza/Desktop/SketchAI/checkpoints/models/Napkin_latest_copy'\n",
    "\n",
    "# train on Napkin dataset.\n",
    "# class Parameters:\n",
    "#     pad = True\n",
    "#     include_fingerup = False\n",
    "#     test_size = 0.2\n",
    "#     method = 'G3'\n",
    "#     dataset = 'Napkin'\n",
    "#     load_mode = 'train'\n",
    "#     augmentFactor = 3\n",
    "#     datasetFolder = '/Users/murtuza/Desktop/SketchAI/dataset/NapkinData/csv'\n",
    "#     fileType = 'csv'\n",
    "#     labelJsonPath = None\n",
    "#     topology = 'mts'\n",
    "#     batchSize = 64\n",
    "#     modelPath = '/Users/murtuza/Desktop/SketchAI/checkpoints/models/Napkin_latest_copy'\n",
    "\n",
    "\n",
    "p = Parameters()\n"
   ]
  },
  {
   "cell_type": "code",
   "execution_count": null,
   "id": "b191d5f6",
   "metadata": {},
   "outputs": [],
   "source": [
    "\n",
    "# Data loading\n",
    "dl = DataLoader(dataset=p.dataset, load_mode=p.load_mode, labelJsonPath=p.labelJsonPath, datasetFolder=p.datasetFolder,\n",
    "                fileType=p.fileType, include_fingerup=p.include_fingerup, augmentFactor=p.augmentFactor)\n",
    "\n",
    "print(dl.validation_set_classifier[0].shape)\n",
    "print(dl.train_set_classifier[0].shape)\n",
    "for k, v in dl.labels_dict.items():\n",
    "    print('{} - {}'.format(v, k))\n",
    "\n"
   ]
  },
  {
   "cell_type": "code",
   "execution_count": 2,
   "id": "470184ed",
   "metadata": {},
   "outputs": [
    {
     "name": "stdout",
     "output_type": "stream",
     "text": [
      "Metal device set to: Apple M1 Pro\n"
     ]
    },
    {
     "name": "stderr",
     "output_type": "stream",
     "text": [
      "2022-07-29 15:33:19.554613: I tensorflow/core/common_runtime/pluggable_device/pluggable_device_factory.cc:305] Could not identify NUMA node of platform GPU ID 0, defaulting to 0. Your kernel may not have been built with NUMA support.\n",
      "2022-07-29 15:33:19.554739: I tensorflow/core/common_runtime/pluggable_device/pluggable_device_factory.cc:271] Created TensorFlow device (/job:localhost/replica:0/task:0/device:GPU:0 with 0 MB memory) -> physical PluggableDevice (device: 0, name: METAL, pci bus id: <undefined>)\n"
     ]
    }
   ],
   "source": [
    "# model initialization.\n",
    "model_mts = GestuReNN(dataset=p.dataset, plot=False, topology=p.topology, labelJsonPath=p.labelJsonPath,\n",
    "                      batch_size=p.batchSize, model_path=p.modelPath, include_fingerup=p.include_fingerup)\n",
    "graphic_manager = GraphicManager(dataset=p.dataset, n_bins=10)\n",
    "\n"
   ]
  },
  {
   "cell_type": "code",
   "execution_count": 3,
   "id": "d738a369",
   "metadata": {},
   "outputs": [
    {
     "name": "stdout",
     "output_type": "stream",
     "text": [
      "loading model ...\n",
      "/Users/murtuza/Desktop/SketchAI/checkpoints/models/Napkin_latest_copy/mdcp_robust.ckpt\n",
      "Model Loaded!!\n"
     ]
    }
   ],
   "source": [
    "if p.load_mode == 'train':\n",
    "    model_mts.fit_model(dl.train_set_classifier,\n",
    "                        dl.validation_set_classifier,\n",
    "                        dl.train_set_regressor,\n",
    "                        dl.validation_set_regressor)\n",
    "else:\n",
    "    print(\"loading model ...\")\n",
    "    model_mts.load_model()\n",
    "    print('Model Loaded!!')\n",
    "    #graphic_manager.generate_progressive_accuracy(model_mts, dl.test_set_classifier, plot_clf=True, plot_reg=False,\n",
    "    #                                              best_of=1, indexToLabel=dl.get_index_to_label())\n",
    "\n",
    "    \n",
    "# input_curve3 = [ 34, 242, 5380, 34, 238, 5396.3623046875, 33, 180.75, 5630.5869140625, 32.5, 152.125, 5747.69921875, 32, 123.5, 5864.8115234375, 32, 35, 6226.8330078125, 30, 13, 6317.1982421875, 30, 9, 6333.5615234375, 30, 5, 6349.923828125, 28, 2, 6364.6728515625, 22, 2.25, 6389.2373046875, 19, 2.375, 6401.5205078125, 16, 2.5, 6413.802734375, 9, 1.25, 6442.890625, 5.5, 0.625, 6457.43359375, 3.75, 0.3125, 6464.7060546875, 2, 0, 6471.9775390625, 2, 2, 6480.1591796875, 0, 32, 6603.150390625, 0, 111, 6926.310546875, 2.5, 121.5, 6970.462890625, 3, 229, 7410.2119140625, 3, 236, 7438.845703125, 3, 239.5, 7453.1630859375, 3, 243, 7467.48046875, 6, 243, 7479.751953125, 14, 240, 7514.703125, 17, 240.5, 7527.1435546875, 20, 241, 7539.5849609375, 27, 241.5, 7568.29296875, 30.5, 241.75, 7582.646484375, 32.25, 241.875, 7589.8232421875, 34, 242, 7597 ]\n",
    "# x = np.array(input_curve3).reshape((-1,3))\n",
    "# x[:,-1] = 0\n",
    "# x[-1,-1] = 1  #fingure_up with last coordinate.\n",
    "# x = np.expand_dims(x, axis=0)\n",
    "\n",
    "# start_time = time.time()\n",
    "# clf, reg = graphic_manager.make_predictions(model_mts, x)\n",
    "# print(\"--- %s seconds ---\" % (time.time() - start_time))\n",
    "# print(clf,reg)\n"
   ]
  },
  {
   "cell_type": "code",
   "execution_count": 6,
   "id": "5445d412",
   "metadata": {},
   "outputs": [
    {
     "name": "stdout",
     "output_type": "stream",
     "text": [
      "Model: \"model\"\n",
      "__________________________________________________________________________________________________\n",
      " Layer (type)                   Output Shape         Param #     Connected to                     \n",
      "==================================================================================================\n",
      " Input (InputLayer)             [(None, None, 2)]    0           []                               \n",
      "                                                                                                  \n",
      " Masking (Masking)              (None, None, 2)      0           ['Input[0][0]']                  \n",
      "                                                                                                  \n",
      " Gate1 (LSTM)                   (None, None, 256)    265216      ['Masking[0][0]']                \n",
      "                                                                                                  \n",
      " Reg1 (Dropout)                 (None, None, 256)    0           ['Gate1[0][0]']                  \n",
      "                                                                                                  \n",
      " Gate_Clf (LSTM)                (None, None, 64)     82176       ['Reg1[0][0]']                   \n",
      "                                                                                                  \n",
      " Gate_Reg (LSTM)                (None, None, 64)     82176       ['Reg1[0][0]']                   \n",
      "                                                                                                  \n",
      " Drop_Clf (Dropout)             (None, None, 64)     0           ['Gate_Clf[0][0]']               \n",
      "                                                                                                  \n",
      " Drop_Reg (Dropout)             (None, None, 64)     0           ['Gate_Reg[0][0]']               \n",
      "                                                                                                  \n",
      " Clf (Dense)                    (None, None, 16)     1040        ['Drop_Clf[0][0]']               \n",
      "                                                                                                  \n",
      " Reg (Dense)                    (None, None, 1)      65          ['Drop_Reg[0][0]']               \n",
      "                                                                                                  \n",
      "==================================================================================================\n",
      "Total params: 430,673\n",
      "Trainable params: 430,673\n",
      "Non-trainable params: 0\n",
      "__________________________________________________________________________________________________\n"
     ]
    }
   ],
   "source": [
    "model_mts.model.summary()"
   ]
  },
  {
   "cell_type": "code",
   "execution_count": 5,
   "id": "93d26b65",
   "metadata": {},
   "outputs": [],
   "source": [
    "import tensorflowjs as tfjs\n",
    "\n",
    "tfjs.converters.save_keras_model(model_mts.model, \"/Users/murtuza/Desktop\")"
   ]
  },
  {
   "cell_type": "code",
   "execution_count": null,
   "id": "fd6338e1",
   "metadata": {},
   "outputs": [],
   "source": []
  }
 ],
 "metadata": {
  "kernelspec": {
   "display_name": "Python 3 (ipykernel)",
   "language": "python",
   "name": "python3"
  },
  "language_info": {
   "codemirror_mode": {
    "name": "ipython",
    "version": 3
   },
   "file_extension": ".py",
   "mimetype": "text/x-python",
   "name": "python",
   "nbconvert_exporter": "python",
   "pygments_lexer": "ipython3",
   "version": "3.9.0"
  }
 },
 "nbformat": 4,
 "nbformat_minor": 5
}
